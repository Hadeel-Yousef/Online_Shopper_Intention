{
 "cells": [
  {
   "cell_type": "code",
   "execution_count": 1,
   "id": "ba380f4d",
   "metadata": {},
   "outputs": [],
   "source": [
    "\n",
    "import numpy as np\n",
    "import pandas as pd\n",
    "import seaborn as sns\n",
    "import matplotlib.pyplot as plt\n",
    "\n",
    "\n",
    "from sklearn.compose import make_column_transformer\n",
    "from sklearn.preprocessing import OneHotEncoder, MinMaxScaler\n",
    "from sklearn.utils import resample\n",
    "from sklearn.model_selection import train_test_split \n",
    "from sklearn.metrics import confusion_matrix, ConfusionMatrixDisplay, accuracy_score, f1_score\n",
    "\n",
    "from sklearn.linear_model import LogisticRegression\n",
    "#from sklearn.svm import SVC\n",
    "\n",
    "from sklearn.tree import DecisionTreeClassifier\n",
    "from sklearn.ensemble import RandomForestClassifier\n"
   ]
  },
  {
   "cell_type": "code",
   "execution_count": 2,
   "id": "28382c40",
   "metadata": {},
   "outputs": [],
   "source": [
    "data = pd.read_csv(\"online_shoppers_intention.csv\")"
   ]
  },
  {
   "cell_type": "code",
   "execution_count": 3,
   "id": "a82f4be8",
   "metadata": {},
   "outputs": [
    {
     "data": {
      "text/plain": [
       "Administrative               int64\n",
       "Administrative_Duration    float64\n",
       "Informational                int64\n",
       "Informational_Duration     float64\n",
       "ProductRelated               int64\n",
       "ProductRelated_Duration    float64\n",
       "BounceRates                float64\n",
       "ExitRates                  float64\n",
       "PageValues                 float64\n",
       "SpecialDay                 float64\n",
       "Month                       object\n",
       "OperatingSystems             int64\n",
       "Browser                      int64\n",
       "Region                       int64\n",
       "TrafficType                  int64\n",
       "VisitorType                 object\n",
       "Weekend                       bool\n",
       "Revenue                       bool\n",
       "dtype: object"
      ]
     },
     "execution_count": 3,
     "metadata": {},
     "output_type": "execute_result"
    }
   ],
   "source": [
    "data.dtypes\n"
   ]
  },
  {
   "cell_type": "code",
   "execution_count": 4,
   "id": "c728595d",
   "metadata": {},
   "outputs": [
    {
     "name": "stdout",
     "output_type": "stream",
     "text": [
      "May     3364\n",
      "Nov     2998\n",
      "Mar     1907\n",
      "Dec     1727\n",
      "Oct      549\n",
      "Sep      448\n",
      "Aug      433\n",
      "Jul      432\n",
      "June     288\n",
      "Feb      184\n",
      "Name: Month, dtype: int64\n",
      "Returning_Visitor    10551\n",
      "New_Visitor           1694\n",
      "Other                   85\n",
      "Name: VisitorType, dtype: int64\n"
     ]
    }
   ],
   "source": [
    "print(data['Month'].value_counts())\n",
    "print(data['VisitorType'].value_counts())"
   ]
  },
  {
   "cell_type": "code",
   "execution_count": 5,
   "id": "64047a39",
   "metadata": {},
   "outputs": [],
   "source": [
    "column_trans = make_column_transformer((OneHotEncoder(),['Month','OperatingSystems','Browser','VisitorType','Weekend']),remainder='passthrough')\n",
    "\n",
    "# Scaler\n",
    "scalar = MinMaxScaler()\n",
    "\n",
    "# Purchased\n",
    "dataset_p = data[data.Revenue==True]\n",
    "# Not Purchased\n",
    "dataset_np = data[data.Revenue==False]\n",
    "\n",
    "# Downsampled Dataset\n",
    "dataset_p_down = resample(dataset_p,replace=False,n_samples=1000)\n",
    "dataset_np_down = resample(dataset_np,replace=False,n_samples=5000)\n",
    "dataset = pd.concat([dataset_p_down,dataset_np_down])\n",
    "\n",
    "# Identifying the class label\n",
    "X = dataset.drop(columns=['Revenue'])\n",
    "y = dataset['Revenue']\n",
    "\n",
    "# Encoding categorical features\n",
    "column_trans.fit(X)\n",
    "X = column_trans.transform(X)\n",
    "\n",
    "# Creating training and testing set\n",
    "X_train, X_test, y_train, y_test = train_test_split(X,y,test_size=0.20,random_state=42)\n",
    "\n",
    "# Center and normalize the data\n",
    "scalar.fit(X)\n",
    "X_train = scalar.transform(X_train)\n",
    "X_test = scalar.transform(X_test)"
   ]
  },
  {
   "cell_type": "code",
   "execution_count": 6,
   "id": "90116554",
   "metadata": {},
   "outputs": [
    {
     "name": "stdout",
     "output_type": "stream",
     "text": [
      "[1908, 10422]\n"
     ]
    },
    {
     "data": {
      "image/png": "[encoded data removed]",
      "text/plain": [
       "<Figure size 1440x360 with 2 Axes>"
      ]
     },
     "metadata": {
      "needs_background": "light"
     },
     "output_type": "display_data"
    }
   ],
   "source": [
    "fig, axs = plt.subplots(1,2)\n",
    "fig.set_size_inches(20,5)\n",
    "\n",
    "#Visitor Types\n",
    "axs[1].set_title(\"Visitor Types\")\n",
    "Vtype = ['Returning_Visitor','New_Visitor','Other']\n",
    "count_vtype = [data['VisitorType'].value_counts()['Returning_Visitor'],\n",
    "               data['VisitorType'].value_counts()['New_Visitor'],\n",
    "               data['VisitorType'].value_counts()['Other']]\n",
    "axs[1].bar(Vtype,count_vtype)\n",
    "\n",
    "#Number of Purchased\n",
    "axs[0].set_title(\"Revenue (Purchase/NoPurchase)\")\n",
    "TF = [\"Purchase\",\"No Purchase\"]\n",
    "TF_count = [data['Revenue'].value_counts()[True],data['Revenue'].value_counts()[False]]\n",
    "axs[0].bar(TF,TF_count)\n",
    "\n",
    "print(TF_count)\n",
    "plt.show()"
   ]
  },
  {
   "cell_type": "code",
   "execution_count": 7,
   "id": "f65cce90",
   "metadata": {},
   "outputs": [
    {
     "name": "stderr",
     "output_type": "stream",
     "text": [
      "C:\\Users\\RTECH\\anaconda3\\lib\\site-packages\\seaborn\\_decorators.py:36: FutureWarning: Pass the following variable as a keyword arg: x. From version 0.12, the only valid positional argument will be `data`, and passing other arguments without an explicit keyword will result in an error or misinterpretation.\n",
      "  warnings.warn(\n"
     ]
    },
    {
     "data": {
      "text/plain": [
       "Text(0.5, 1.0, 'Number of Purchase each month')"
      ]
     },
     "execution_count": 7,
     "metadata": {},
     "output_type": "execute_result"
    },
    {
     "data": {
      "image/png": "[encoded data removed]",
      "text/plain": [
       "<Figure size 936x288 with 1 Axes>"
      ]
     },
     "metadata": {
      "needs_background": "light"
     },
     "output_type": "display_data"
    }
   ],
   "source": [
    "plt.figure(figsize=(13, 4))\n",
    "sns.countplot(dataset_p.Month.dropna(), order = data.Month.value_counts().index);\n",
    "plt.title('Number of Purchase each month', fontsize = 15)"
   ]
  },
  {
   "cell_type": "code",
   "execution_count": 8,
   "id": "ffbcaf41",
   "metadata": {},
   "outputs": [
    {
     "name": "stderr",
     "output_type": "stream",
     "text": [
      "C:\\Users\\RTECH\\anaconda3\\lib\\site-packages\\seaborn\\_decorators.py:36: FutureWarning: Pass the following variable as a keyword arg: x. From version 0.12, the only valid positional argument will be `data`, and passing other arguments without an explicit keyword will result in an error or misinterpretation.\n",
      "  warnings.warn(\n"
     ]
    },
    {
     "data": {
      "text/plain": [
       "Text(0.5, 1.0, 'Number of No Purchase each month')"
      ]
     },
     "execution_count": 8,
     "metadata": {},
     "output_type": "execute_result"
    },
    {
     "data": {
      "image/png": "[encoded data removed]",
      "text/plain": [
       "<Figure size 936x288 with 1 Axes>"
      ]
     },
     "metadata": {
      "needs_background": "light"
     },
     "output_type": "display_data"
    }
   ],
   "source": [
    "plt.figure(figsize=(13, 4))\n",
    "sns.countplot(dataset_np.Month.dropna(), order = data.Month.value_counts().index);\n",
    "plt.title('Number of No Purchase each month', fontsize = 15)"
   ]
  },
  {
   "cell_type": "code",
   "execution_count": 9,
   "id": "996ba5a0",
   "metadata": {},
   "outputs": [
    {
     "data": {
      "image/png": "[encoded data removed]",
      "text/plain": [
       "<Figure size 1080x360 with 1 Axes>"
      ]
     },
     "metadata": {
      "needs_background": "light"
     },
     "output_type": "display_data"
    }
   ],
   "source": [
    "df = pd.crosstab(data['VisitorType'], data['Revenue'])\n",
    "df.div(df.sum(1).astype(float), axis = 0).plot(kind = 'bar', stacked = True, figsize = (15, 5), color = ['lightblue', 'blue'])\n",
    "plt.title('Visitor Type vs Revenue', fontsize = 10)\n",
    "plt.show()"
   ]
  },
  {
   "cell_type": "code",
   "execution_count": 10,
   "id": "58adedc4",
   "metadata": {},
   "outputs": [
    {
     "name": "stdout",
     "output_type": "stream",
     "text": [
      "Training Accuracy : 1.0\n",
      "Testing Accuracy : 0.9033333333333333\n",
      "[[962  23]\n",
      " [ 93 122]]\n",
      "              precision    recall  f1-score   support\n",
      "\n",
      "       False       0.91      0.98      0.94       985\n",
      "        True       0.84      0.57      0.68       215\n",
      "\n",
      "    accuracy                           0.90      1200\n",
      "   macro avg       0.88      0.77      0.81      1200\n",
      "weighted avg       0.90      0.90      0.90      1200\n",
      "\n"
     ]
    },
    {
     "data": {
      "image/png": "[encoded data removed]",
      "text/plain": [
       "<Figure size 432x288 with 2 Axes>"
      ]
     },
     "metadata": {
      "needs_background": "light"
     },
     "output_type": "display_data"
    }
   ],
   "source": [
    "# MODELLING\n",
    "\n",
    "from sklearn.ensemble import RandomForestClassifier\n",
    "from sklearn.metrics import confusion_matrix\n",
    "from sklearn.metrics import classification_report\n",
    "\n",
    "model = RandomForestClassifier()\n",
    "model.fit(X_train, y_train)\n",
    "\n",
    "y_pred = model.predict(X_test)\n",
    "\n",
    "# evaluating the model\n",
    "print(\"Training Accuracy :\", model.score(X_train, y_train))\n",
    "print(\"Testing Accuracy :\", model.score(X_test, y_test))\n",
    "\n",
    "# confusion matrix\n",
    "cm = confusion_matrix(y_test, y_pred)\n",
    "#plt.rcParams['figure.figsize'] = (6, 6)\n",
    "print(cm)\n",
    "sns.heatmap(cm ,annot = True)\n",
    "# classification report\n",
    "cr = classification_report(y_test, y_pred)\n",
    "print(cr)"
   ]
  },
  {
   "cell_type": "code",
   "execution_count": 11,
   "id": "88af3bb7",
   "metadata": {},
   "outputs": [
    {
     "name": "stdout",
     "output_type": "stream",
     "text": [
      "Training Accuracy : 1.0\n",
      "Testing Accuracy : 0.85\n",
      "[[894  91]\n",
      " [ 89 126]]\n",
      "              precision    recall  f1-score   support\n",
      "\n",
      "       False       0.91      0.91      0.91       985\n",
      "        True       0.58      0.59      0.58       215\n",
      "\n",
      "    accuracy                           0.85      1200\n",
      "   macro avg       0.75      0.75      0.75      1200\n",
      "weighted avg       0.85      0.85      0.85      1200\n",
      "\n"
     ]
    },
    {
     "data": {
      "image/png": "[encoded data removed]",
      "text/plain": [
       "<Figure size 432x288 with 2 Axes>"
      ]
     },
     "metadata": {
      "needs_background": "light"
     },
     "output_type": "display_data"
    }
   ],
   "source": [
    "# MODELLING\n",
    "\n",
    "from sklearn.tree import DecisionTreeClassifier\n",
    "from sklearn.metrics import confusion_matrix\n",
    "from sklearn.metrics import classification_report\n",
    "\n",
    "model = DecisionTreeClassifier()\n",
    "model.fit(X_train, y_train)\n",
    "\n",
    "y_pred = model.predict(X_test)\n",
    "\n",
    "# evaluating the model\n",
    "print(\"Training Accuracy :\", model.score(X_train, y_train))\n",
    "print(\"Testing Accuracy :\", model.score(X_test, y_test))\n",
    "\n",
    "# confusion matrix\n",
    "cm = confusion_matrix(y_test, y_pred)\n",
    "#plt.rcParams['figure.figsize'] = (6, 6)\n",
    "print(cm)\n",
    "sns.heatmap(cm ,annot = True)\n",
    "\n",
    "\n",
    "# classification report\n",
    "cr = classification_report(y_test, y_pred)\n",
    "print(cr)"
   ]
  },
  {
   "cell_type": "code",
   "execution_count": 12,
   "id": "de860d0c",
   "metadata": {},
   "outputs": [
    {
     "name": "stdout",
     "output_type": "stream",
     "text": [
      "Training Accuracy : 0.870625\n",
      "Testing Accuracy : 0.8608333333333333\n",
      "[[972  13]\n",
      " [154  61]]\n",
      "              precision    recall  f1-score   support\n",
      "\n",
      "       False       0.86      0.99      0.92       985\n",
      "        True       0.82      0.28      0.42       215\n",
      "\n",
      "    accuracy                           0.86      1200\n",
      "   macro avg       0.84      0.64      0.67      1200\n",
      "weighted avg       0.86      0.86      0.83      1200\n",
      "\n"
     ]
    },
    {
     "data": {
      "image/png": "[encoded data removed]",
      "text/plain": [
       "<Figure size 432x288 with 2 Axes>"
      ]
     },
     "metadata": {
      "needs_background": "light"
     },
     "output_type": "display_data"
    }
   ],
   "source": [
    "# MODELLING\n",
    "\n",
    "from sklearn.linear_model import LogisticRegression\n",
    "from sklearn.metrics import confusion_matrix\n",
    "from sklearn.metrics import classification_report\n",
    "\n",
    "model1 = LogisticRegression()\n",
    "model1.fit(X_train, y_train)\n",
    "\n",
    "y_pred = model1.predict(X_test)\n",
    "\n",
    "# evaluating the model\n",
    "print(\"Training Accuracy :\", model1.score(X_train, y_train))\n",
    "print(\"Testing Accuracy :\", model1.score(X_test, y_test))\n",
    "\n",
    "# confusion matrix\n",
    "cm = confusion_matrix(y_test, y_pred)\n",
    "#plt.rcParams['figure.figsize'] = (6, 6)\n",
    "print(cm)\n",
    "sns.heatmap(cm ,annot = True)\n",
    "# classification report\n",
    "cr = classification_report(y_test, y_pred)\n",
    "print(cr)"
   ]
  },
  {
   "cell_type": "code",
   "execution_count": null,
   "id": "a3e7c64a",
   "metadata": {},
   "outputs": [],
   "source": []
  }
 ],
 "metadata": {
  "kernelspec": {
   "display_name": "Python 3",
   "language": "python",
   "name": "python3"
  },
  "language_info": {
   "codemirror_mode": {
    "name": "ipython",
    "version": 3
   },
   "file_extension": ".py",
   "mimetype": "text/x-python",
   "name": "python",
   "nbconvert_exporter": "python",
   "pygments_lexer": "ipython3",
   "version": "3.8.8"
  }
 },
 "nbformat": 4,
 "nbformat_minor": 5
}
